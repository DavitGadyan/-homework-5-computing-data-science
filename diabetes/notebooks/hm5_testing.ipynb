{
 "cells": [
  {
   "cell_type": "code",
   "execution_count": 64,
   "id": "848bc2cf",
   "metadata": {},
   "outputs": [
    {
     "name": "stdout",
     "output_type": "stream",
     "text": [
      "Package         Version   Editable project location\r\n",
      "--------------- --------- ------------------------------------------------------------------------------------------------------------\r\n",
      "diabetes        0.1.0     /Users/dyada/Desktop/BSE/Computing for Data Science/homeworks/hm5/homework-5-computing-data-science/diabetes\r\n",
      "geographiclib   2.0\r\n",
      "geopy           2.3.0\r\n",
      "joblib          1.2.0\r\n",
      "numpy           1.23.4\r\n",
      "pandas          1.5.1\r\n",
      "pip             22.3.1\r\n",
      "python-dateutil 2.8.2\r\n",
      "pytz            2022.6\r\n",
      "scikit-learn    1.1.3\r\n",
      "scipy           1.9.3\r\n",
      "setuptools      65.3.0\r\n",
      "six             1.16.0\r\n",
      "sklearn         0.0.post1\r\n",
      "threadpoolctl   3.1.0\r\n",
      "wheel           0.37.1\r\n"
     ]
    }
   ],
   "source": [
    "! pip list"
   ]
  },
  {
   "cell_type": "code",
   "execution_count": 65,
   "id": "1c2bc33b",
   "metadata": {},
   "outputs": [],
   "source": [
    "import sys\n",
    "package_path = '/Users/dyada/Desktop/BSE/Computing for Data Science/homeworks/hm5/homework-5-computing-data-science/diabetes/'\n",
    "sys.path.append(package_path)"
   ]
  },
  {
   "cell_type": "code",
   "execution_count": 66,
   "id": "39fe95ed",
   "metadata": {},
   "outputs": [],
   "source": [
    "from diabetes.data.load import from_csv\n",
    "from diabetes.processing.train_test import split\n",
    "from diabetes.processing.na import drop, fill\n",
    "from diabetes.processing.dummy import generate, binarize\n",
    "from diabetes.training.model import train, predict\n",
    "from diabetes.evaluating.score import roc_auc"
   ]
  },
  {
   "cell_type": "code",
   "execution_count": 67,
   "id": "2ce4ea6b",
   "metadata": {},
   "outputs": [],
   "source": [
    "X_FEATURES = ['age', 'height', 'weight', 'aids', 'cirrhosis', 'hepatic_failure',\n",
    "'immunosuppression', 'leukemia', 'lymphoma', 'solid_tumor_with_metastasis']"
   ]
  },
  {
   "cell_type": "markdown",
   "id": "816b946f",
   "metadata": {},
   "source": [
    "#### a. Load the data."
   ]
  },
  {
   "cell_type": "code",
   "execution_count": 68,
   "id": "740c988a",
   "metadata": {},
   "outputs": [
    {
     "name": "stdout",
     "output_type": "stream",
     "text": [
      "      encounter_id  hospital_id   age        bmi  elective_surgery  \\\n",
      "0           214826          118  68.0  22.732803                 0   \n",
      "1           246060           81  77.0  27.421875                 0   \n",
      "2           276985          118  25.0  31.952749                 0   \n",
      "3           262220          118  81.0  22.635548                 1   \n",
      "4           201746           33  19.0        NaN                 0   \n",
      "...            ...          ...   ...        ...               ...   \n",
      "9995        167042          140   NaN  51.952814                 0   \n",
      "9996        165009           89  34.0  26.110113                 0   \n",
      "9997        234052          137  30.0  23.774241                 0   \n",
      "9998        249290           89  67.0  31.330708                 0   \n",
      "9999        151312           89  55.0  44.343663                 0   \n",
      "\n",
      "            ethnicity gender  height hospital_admit_source  \\\n",
      "0           Caucasian      M  180.30                 Floor   \n",
      "1           Caucasian      F  160.00                 Floor   \n",
      "2           Caucasian      F  172.70  Emergency Department   \n",
      "3           Caucasian      F  165.10        Operating Room   \n",
      "4           Caucasian      M  188.00                   NaN   \n",
      "...               ...    ...     ...                   ...   \n",
      "9995        Caucasian      F  137.20                 Floor   \n",
      "9996        Caucasian      F  175.26  Emergency Department   \n",
      "9997  Native American      F  157.48  Emergency Department   \n",
      "9998        Caucasian      F  157.48          Direct Admit   \n",
      "9999        Caucasian      F  157.50  Emergency Department   \n",
      "\n",
      "               icu_admit_source  ...  ventilated_apache wbc_apache aids  \\\n",
      "0                         Floor  ...                  0       14.1    0   \n",
      "1                         Floor  ...                  1       12.7    0   \n",
      "2          Accident & Emergency  ...                  0        NaN    0   \n",
      "3     Operating Room / Recovery  ...                  1        8.0    0   \n",
      "4          Accident & Emergency  ...                  0        NaN    0   \n",
      "...                         ...  ...                ...        ...  ...   \n",
      "9995                      Floor  ...                  0        7.0    0   \n",
      "9996       Accident & Emergency  ...                  0        9.5    0   \n",
      "9997       Accident & Emergency  ...                  0        NaN    0   \n",
      "9998       Accident & Emergency  ...                  0        6.4    0   \n",
      "9999       Accident & Emergency  ...                  1        NaN    0   \n",
      "\n",
      "      cirrhosis  hepatic_failure  immunosuppression  leukemia  lymphoma  \\\n",
      "0             0                0                  0         0         0   \n",
      "1             0                0                  0         0         0   \n",
      "2             0                0                  0         0         0   \n",
      "3             0                0                  0         0         0   \n",
      "4             0                0                  0         0         0   \n",
      "...         ...              ...                ...       ...       ...   \n",
      "9995          0                0                  0         0         0   \n",
      "9996          0                0                  0         0         0   \n",
      "9997          0                0                  0         0         0   \n",
      "9998          0                0                  0         0         0   \n",
      "9999          0                0                  0         0         0   \n",
      "\n",
      "      solid_tumor_with_metastasis  diabetes_mellitus  \n",
      "0                               0                  1  \n",
      "1                               0                  1  \n",
      "2                               0                  0  \n",
      "3                               0                  0  \n",
      "4                               0                  0  \n",
      "...                           ...                ...  \n",
      "9995                            0                  0  \n",
      "9996                            0                  0  \n",
      "9997                            0                  0  \n",
      "9998                            0                  0  \n",
      "9999                            0                  0  \n",
      "\n",
      "[10000 rows x 52 columns]\n"
     ]
    }
   ],
   "source": [
    "df = from_csv(package_path + 'data/sample_diabetes_mellitus_data.csv')\n",
    "\n",
    "print(df)"
   ]
  },
  {
   "cell_type": "code",
   "execution_count": 69,
   "id": "fe159137",
   "metadata": {},
   "outputs": [
    {
     "name": "stdout",
     "output_type": "stream",
     "text": [
      "<class 'pandas.core.frame.DataFrame'>\n",
      "Int64Index: 10000 entries, 0 to 9999\n",
      "Data columns (total 52 columns):\n",
      " #   Column                       Non-Null Count  Dtype  \n",
      "---  ------                       --------------  -----  \n",
      " 0   encounter_id                 10000 non-null  int64  \n",
      " 1   hospital_id                  10000 non-null  int64  \n",
      " 2   age                          9595 non-null   float64\n",
      " 3   bmi                          8262 non-null   float64\n",
      " 4   elective_surgery             10000 non-null  int64  \n",
      " 5   ethnicity                    9758 non-null   object \n",
      " 6   gender                       9997 non-null   object \n",
      " 7   height                       9840 non-null   float64\n",
      " 8   hospital_admit_source        9082 non-null   object \n",
      " 9   icu_admit_source             9979 non-null   object \n",
      " 10  icu_id                       10000 non-null  int64  \n",
      " 11  icu_stay_type                10000 non-null  object \n",
      " 12  icu_type                     10000 non-null  object \n",
      " 13  pre_icu_los_days             10000 non-null  float64\n",
      " 14  readmission_status           10000 non-null  int64  \n",
      " 15  weight                       8342 non-null   float64\n",
      " 16  albumin_apache               3539 non-null   float64\n",
      " 17  apache_2_diagnosis           9820 non-null   float64\n",
      " 18  apache_3j_diagnosis          9949 non-null   float64\n",
      " 19  apache_post_operative        10000 non-null  int64  \n",
      " 20  arf_apache                   10000 non-null  int64  \n",
      " 21  bilirubin_apache             3408 non-null   float64\n",
      " 22  bun_apache                   7479 non-null   float64\n",
      " 23  creatinine_apache            7611 non-null   float64\n",
      " 24  fio2_apache                  2913 non-null   float64\n",
      " 25  gcs_eyes_apache              9931 non-null   float64\n",
      " 26  gcs_motor_apache             9931 non-null   float64\n",
      " 27  gcs_unable_apache            9935 non-null   float64\n",
      " 28  gcs_verbal_apache            9931 non-null   float64\n",
      " 29  glucose_apache               8915 non-null   float64\n",
      " 30  heart_rate_apache            9999 non-null   float64\n",
      " 31  hematocrit_apache            7994 non-null   float64\n",
      " 32  intubated_apache             10000 non-null  int64  \n",
      " 33  map_apache                   9987 non-null   float64\n",
      " 34  paco2_apache                 2913 non-null   float64\n",
      " 35  paco2_for_ph_apache          2913 non-null   float64\n",
      " 36  pao2_apache                  2913 non-null   float64\n",
      " 37  ph_apache                    2913 non-null   float64\n",
      " 38  resprate_apache              9961 non-null   float64\n",
      " 39  sodium_apache                7534 non-null   float64\n",
      " 40  temp_apache                  9899 non-null   float64\n",
      " 41  urineoutput_apache           1523 non-null   float64\n",
      " 42  ventilated_apache            10000 non-null  int64  \n",
      " 43  wbc_apache                   7802 non-null   float64\n",
      " 44  aids                         10000 non-null  int64  \n",
      " 45  cirrhosis                    10000 non-null  int64  \n",
      " 46  hepatic_failure              10000 non-null  int64  \n",
      " 47  immunosuppression            10000 non-null  int64  \n",
      " 48  leukemia                     10000 non-null  int64  \n",
      " 49  lymphoma                     10000 non-null  int64  \n",
      " 50  solid_tumor_with_metastasis  10000 non-null  int64  \n",
      " 51  diabetes_mellitus            10000 non-null  int64  \n",
      "dtypes: float64(29), int64(17), object(6)\n",
      "memory usage: 4.0+ MB\n"
     ]
    }
   ],
   "source": [
    "df.info()"
   ]
  },
  {
   "cell_type": "markdown",
   "id": "12e2a677",
   "metadata": {},
   "source": [
    "## c. Remove those rows that contain NaN values in the columns: age, gender, ethnicity."
   ]
  },
  {
   "cell_type": "code",
   "execution_count": 70,
   "id": "a668dc9e",
   "metadata": {},
   "outputs": [
    {
     "name": "stdout",
     "output_type": "stream",
     "text": [
      "NaNs dropped in age, gender, ethnicity columns>>>>\n",
      "       encounter_id  hospital_id   age        bmi  elective_surgery  \\\n",
      "0           214826          118  68.0  22.732803                 0   \n",
      "1           246060           81  77.0  27.421875                 0   \n",
      "2           276985          118  25.0  31.952749                 0   \n",
      "3           262220          118  81.0  22.635548                 1   \n",
      "4           201746           33  19.0        NaN                 0   \n",
      "...            ...          ...   ...        ...               ...   \n",
      "9994        271449           89  78.0  28.700475                 0   \n",
      "9996        165009           89  34.0  26.110113                 0   \n",
      "9997        234052          137  30.0  23.774241                 0   \n",
      "9998        249290           89  67.0  31.330708                 0   \n",
      "9999        151312           89  55.0  44.343663                 0   \n",
      "\n",
      "            ethnicity gender  height hospital_admit_source  \\\n",
      "0           Caucasian      M  180.30                 Floor   \n",
      "1           Caucasian      F  160.00                 Floor   \n",
      "2           Caucasian      F  172.70  Emergency Department   \n",
      "3           Caucasian      F  165.10        Operating Room   \n",
      "4           Caucasian      M  188.00                   NaN   \n",
      "...               ...    ...     ...                   ...   \n",
      "9994        Caucasian      F  172.70  Emergency Department   \n",
      "9996        Caucasian      F  175.26  Emergency Department   \n",
      "9997  Native American      F  157.48  Emergency Department   \n",
      "9998        Caucasian      F  157.48          Direct Admit   \n",
      "9999        Caucasian      F  157.50  Emergency Department   \n",
      "\n",
      "               icu_admit_source  ...  ventilated_apache wbc_apache aids  \\\n",
      "0                         Floor  ...                  0       14.1    0   \n",
      "1                         Floor  ...                  1       12.7    0   \n",
      "2          Accident & Emergency  ...                  0        NaN    0   \n",
      "3     Operating Room / Recovery  ...                  1        8.0    0   \n",
      "4          Accident & Emergency  ...                  0        NaN    0   \n",
      "...                         ...  ...                ...        ...  ...   \n",
      "9994       Accident & Emergency  ...                  0        NaN    0   \n",
      "9996       Accident & Emergency  ...                  0        9.5    0   \n",
      "9997       Accident & Emergency  ...                  0        NaN    0   \n",
      "9998       Accident & Emergency  ...                  0        6.4    0   \n",
      "9999       Accident & Emergency  ...                  1        NaN    0   \n",
      "\n",
      "      cirrhosis  hepatic_failure  immunosuppression  leukemia  lymphoma  \\\n",
      "0             0                0                  0         0         0   \n",
      "1             0                0                  0         0         0   \n",
      "2             0                0                  0         0         0   \n",
      "3             0                0                  0         0         0   \n",
      "4             0                0                  0         0         0   \n",
      "...         ...              ...                ...       ...       ...   \n",
      "9994          0                0                  0         0         0   \n",
      "9996          0                0                  0         0         0   \n",
      "9997          0                0                  0         0         0   \n",
      "9998          0                0                  0         0         0   \n",
      "9999          0                0                  0         0         0   \n",
      "\n",
      "      solid_tumor_with_metastasis  diabetes_mellitus  \n",
      "0                               0                  1  \n",
      "1                               0                  1  \n",
      "2                               0                  0  \n",
      "3                               0                  0  \n",
      "4                               0                  0  \n",
      "...                           ...                ...  \n",
      "9994                            0                  0  \n",
      "9996                            0                  0  \n",
      "9997                            0                  0  \n",
      "9998                            0                  0  \n",
      "9999                            0                  0  \n",
      "\n",
      "[9368 rows x 52 columns]\n"
     ]
    }
   ],
   "source": [
    "df = drop(df, columns_l = ['age', 'gender', 'ethnicity'])\n",
    "\n",
    "print('NaNs dropped in age, gender, ethnicity columns>>>>\\n', df)"
   ]
  },
  {
   "cell_type": "code",
   "execution_count": 71,
   "id": "7d3178fd",
   "metadata": {},
   "outputs": [
    {
     "name": "stdout",
     "output_type": "stream",
     "text": [
      "<class 'pandas.core.frame.DataFrame'>\n",
      "Int64Index: 9368 entries, 0 to 9999\n",
      "Data columns (total 52 columns):\n",
      " #   Column                       Non-Null Count  Dtype  \n",
      "---  ------                       --------------  -----  \n",
      " 0   encounter_id                 9368 non-null   int64  \n",
      " 1   hospital_id                  9368 non-null   int64  \n",
      " 2   age                          9368 non-null   float64\n",
      " 3   bmi                          7746 non-null   float64\n",
      " 4   elective_surgery             9368 non-null   int64  \n",
      " 5   ethnicity                    9368 non-null   object \n",
      " 6   gender                       9368 non-null   object \n",
      " 7   height                       9241 non-null   float64\n",
      " 8   hospital_admit_source        8518 non-null   object \n",
      " 9   icu_admit_source             9347 non-null   object \n",
      " 10  icu_id                       9368 non-null   int64  \n",
      " 11  icu_stay_type                9368 non-null   object \n",
      " 12  icu_type                     9368 non-null   object \n",
      " 13  pre_icu_los_days             9368 non-null   float64\n",
      " 14  readmission_status           9368 non-null   int64  \n",
      " 15  weight                       7812 non-null   float64\n",
      " 16  albumin_apache               3322 non-null   float64\n",
      " 17  apache_2_diagnosis           9191 non-null   float64\n",
      " 18  apache_3j_diagnosis          9319 non-null   float64\n",
      " 19  apache_post_operative        9368 non-null   int64  \n",
      " 20  arf_apache                   9368 non-null   int64  \n",
      " 21  bilirubin_apache             3198 non-null   float64\n",
      " 22  bun_apache                   6996 non-null   float64\n",
      " 23  creatinine_apache            7121 non-null   float64\n",
      " 24  fio2_apache                  2785 non-null   float64\n",
      " 25  gcs_eyes_apache              9303 non-null   float64\n",
      " 26  gcs_motor_apache             9303 non-null   float64\n",
      " 27  gcs_unable_apache            9307 non-null   float64\n",
      " 28  gcs_verbal_apache            9303 non-null   float64\n",
      " 29  glucose_apache               8360 non-null   float64\n",
      " 30  heart_rate_apache            9367 non-null   float64\n",
      " 31  hematocrit_apache            7489 non-null   float64\n",
      " 32  intubated_apache             9368 non-null   int64  \n",
      " 33  map_apache                   9356 non-null   float64\n",
      " 34  paco2_apache                 2785 non-null   float64\n",
      " 35  paco2_for_ph_apache          2785 non-null   float64\n",
      " 36  pao2_apache                  2785 non-null   float64\n",
      " 37  ph_apache                    2785 non-null   float64\n",
      " 38  resprate_apache              9335 non-null   float64\n",
      " 39  sodium_apache                7047 non-null   float64\n",
      " 40  temp_apache                  9283 non-null   float64\n",
      " 41  urineoutput_apache           1387 non-null   float64\n",
      " 42  ventilated_apache            9368 non-null   int64  \n",
      " 43  wbc_apache                   7314 non-null   float64\n",
      " 44  aids                         9368 non-null   int64  \n",
      " 45  cirrhosis                    9368 non-null   int64  \n",
      " 46  hepatic_failure              9368 non-null   int64  \n",
      " 47  immunosuppression            9368 non-null   int64  \n",
      " 48  leukemia                     9368 non-null   int64  \n",
      " 49  lymphoma                     9368 non-null   int64  \n",
      " 50  solid_tumor_with_metastasis  9368 non-null   int64  \n",
      " 51  diabetes_mellitus            9368 non-null   int64  \n",
      "dtypes: float64(29), int64(17), object(6)\n",
      "memory usage: 3.8+ MB\n"
     ]
    }
   ],
   "source": [
    "df.info()"
   ]
  },
  {
   "cell_type": "markdown",
   "id": "49959b9e",
   "metadata": {},
   "source": [
    "## d. Fill NaN with the mean value of the column in the columns: height, weight."
   ]
  },
  {
   "cell_type": "code",
   "execution_count": 72,
   "id": "1feef1ad",
   "metadata": {},
   "outputs": [
    {
     "name": "stdout",
     "output_type": "stream",
     "text": [
      "<class 'pandas.core.frame.DataFrame'>\n",
      "Int64Index: 9368 entries, 0 to 9999\n",
      "Data columns (total 52 columns):\n",
      " #   Column                       Non-Null Count  Dtype  \n",
      "---  ------                       --------------  -----  \n",
      " 0   encounter_id                 9368 non-null   int64  \n",
      " 1   hospital_id                  9368 non-null   int64  \n",
      " 2   age                          9368 non-null   float64\n",
      " 3   bmi                          7746 non-null   float64\n",
      " 4   elective_surgery             9368 non-null   int64  \n",
      " 5   ethnicity                    9368 non-null   object \n",
      " 6   gender                       9368 non-null   object \n",
      " 7   height                       9368 non-null   float64\n",
      " 8   hospital_admit_source        8518 non-null   object \n",
      " 9   icu_admit_source             9347 non-null   object \n",
      " 10  icu_id                       9368 non-null   int64  \n",
      " 11  icu_stay_type                9368 non-null   object \n",
      " 12  icu_type                     9368 non-null   object \n",
      " 13  pre_icu_los_days             9368 non-null   float64\n",
      " 14  readmission_status           9368 non-null   int64  \n",
      " 15  weight                       9368 non-null   float64\n",
      " 16  albumin_apache               3322 non-null   float64\n",
      " 17  apache_2_diagnosis           9191 non-null   float64\n",
      " 18  apache_3j_diagnosis          9319 non-null   float64\n",
      " 19  apache_post_operative        9368 non-null   int64  \n",
      " 20  arf_apache                   9368 non-null   int64  \n",
      " 21  bilirubin_apache             3198 non-null   float64\n",
      " 22  bun_apache                   6996 non-null   float64\n",
      " 23  creatinine_apache            7121 non-null   float64\n",
      " 24  fio2_apache                  2785 non-null   float64\n",
      " 25  gcs_eyes_apache              9303 non-null   float64\n",
      " 26  gcs_motor_apache             9303 non-null   float64\n",
      " 27  gcs_unable_apache            9307 non-null   float64\n",
      " 28  gcs_verbal_apache            9303 non-null   float64\n",
      " 29  glucose_apache               8360 non-null   float64\n",
      " 30  heart_rate_apache            9367 non-null   float64\n",
      " 31  hematocrit_apache            7489 non-null   float64\n",
      " 32  intubated_apache             9368 non-null   int64  \n",
      " 33  map_apache                   9356 non-null   float64\n",
      " 34  paco2_apache                 2785 non-null   float64\n",
      " 35  paco2_for_ph_apache          2785 non-null   float64\n",
      " 36  pao2_apache                  2785 non-null   float64\n",
      " 37  ph_apache                    2785 non-null   float64\n",
      " 38  resprate_apache              9335 non-null   float64\n",
      " 39  sodium_apache                7047 non-null   float64\n",
      " 40  temp_apache                  9283 non-null   float64\n",
      " 41  urineoutput_apache           1387 non-null   float64\n",
      " 42  ventilated_apache            9368 non-null   int64  \n",
      " 43  wbc_apache                   7314 non-null   float64\n",
      " 44  aids                         9368 non-null   int64  \n",
      " 45  cirrhosis                    9368 non-null   int64  \n",
      " 46  hepatic_failure              9368 non-null   int64  \n",
      " 47  immunosuppression            9368 non-null   int64  \n",
      " 48  leukemia                     9368 non-null   int64  \n",
      " 49  lymphoma                     9368 non-null   int64  \n",
      " 50  solid_tumor_with_metastasis  9368 non-null   int64  \n",
      " 51  diabetes_mellitus            9368 non-null   int64  \n",
      "dtypes: float64(29), int64(17), object(6)\n",
      "memory usage: 3.8+ MB\n",
      "NaNs filled with means for height, weight columns>>>>\n",
      " None\n"
     ]
    }
   ],
   "source": [
    "df = fill(df, columns_l = ['height', 'weight'])\n",
    "print('NaNs filled with means for height, weight columns>>>>\\n', df.info())"
   ]
  },
  {
   "cell_type": "markdown",
   "id": "e1e13392",
   "metadata": {},
   "source": [
    "## e. Generate dummies for ethnicity column (One hot encoding)."
   ]
  },
  {
   "cell_type": "code",
   "execution_count": 73,
   "id": "e241296e",
   "metadata": {},
   "outputs": [
    {
     "name": "stdout",
     "output_type": "stream",
     "text": [
      "<class 'pandas.core.frame.DataFrame'>\n",
      "Int64Index: 9368 entries, 0 to 9999\n",
      "Data columns (total 57 columns):\n",
      " #   Column                       Non-Null Count  Dtype  \n",
      "---  ------                       --------------  -----  \n",
      " 0   encounter_id                 9368 non-null   int64  \n",
      " 1   hospital_id                  9368 non-null   int64  \n",
      " 2   age                          9368 non-null   float64\n",
      " 3   bmi                          7746 non-null   float64\n",
      " 4   elective_surgery             9368 non-null   int64  \n",
      " 5   gender                       9368 non-null   object \n",
      " 6   height                       9368 non-null   float64\n",
      " 7   hospital_admit_source        8518 non-null   object \n",
      " 8   icu_admit_source             9347 non-null   object \n",
      " 9   icu_id                       9368 non-null   int64  \n",
      " 10  icu_stay_type                9368 non-null   object \n",
      " 11  icu_type                     9368 non-null   object \n",
      " 12  pre_icu_los_days             9368 non-null   float64\n",
      " 13  readmission_status           9368 non-null   int64  \n",
      " 14  weight                       9368 non-null   float64\n",
      " 15  albumin_apache               3322 non-null   float64\n",
      " 16  apache_2_diagnosis           9191 non-null   float64\n",
      " 17  apache_3j_diagnosis          9319 non-null   float64\n",
      " 18  apache_post_operative        9368 non-null   int64  \n",
      " 19  arf_apache                   9368 non-null   int64  \n",
      " 20  bilirubin_apache             3198 non-null   float64\n",
      " 21  bun_apache                   6996 non-null   float64\n",
      " 22  creatinine_apache            7121 non-null   float64\n",
      " 23  fio2_apache                  2785 non-null   float64\n",
      " 24  gcs_eyes_apache              9303 non-null   float64\n",
      " 25  gcs_motor_apache             9303 non-null   float64\n",
      " 26  gcs_unable_apache            9307 non-null   float64\n",
      " 27  gcs_verbal_apache            9303 non-null   float64\n",
      " 28  glucose_apache               8360 non-null   float64\n",
      " 29  heart_rate_apache            9367 non-null   float64\n",
      " 30  hematocrit_apache            7489 non-null   float64\n",
      " 31  intubated_apache             9368 non-null   int64  \n",
      " 32  map_apache                   9356 non-null   float64\n",
      " 33  paco2_apache                 2785 non-null   float64\n",
      " 34  paco2_for_ph_apache          2785 non-null   float64\n",
      " 35  pao2_apache                  2785 non-null   float64\n",
      " 36  ph_apache                    2785 non-null   float64\n",
      " 37  resprate_apache              9335 non-null   float64\n",
      " 38  sodium_apache                7047 non-null   float64\n",
      " 39  temp_apache                  9283 non-null   float64\n",
      " 40  urineoutput_apache           1387 non-null   float64\n",
      " 41  ventilated_apache            9368 non-null   int64  \n",
      " 42  wbc_apache                   7314 non-null   float64\n",
      " 43  aids                         9368 non-null   int64  \n",
      " 44  cirrhosis                    9368 non-null   int64  \n",
      " 45  hepatic_failure              9368 non-null   int64  \n",
      " 46  immunosuppression            9368 non-null   int64  \n",
      " 47  leukemia                     9368 non-null   int64  \n",
      " 48  lymphoma                     9368 non-null   int64  \n",
      " 49  solid_tumor_with_metastasis  9368 non-null   int64  \n",
      " 50  diabetes_mellitus            9368 non-null   int64  \n",
      " 51  ethnicity_African American   9368 non-null   uint8  \n",
      " 52  ethnicity_Asian              9368 non-null   uint8  \n",
      " 53  ethnicity_Caucasian          9368 non-null   uint8  \n",
      " 54  ethnicity_Hispanic           9368 non-null   uint8  \n",
      " 55  ethnicity_Native American    9368 non-null   uint8  \n",
      " 56  ethnicity_Other/Unknown      9368 non-null   uint8  \n",
      "dtypes: float64(29), int64(17), object(5), uint8(6)\n",
      "memory usage: 3.8+ MB\n",
      "NaNs filled with means for height, weight columns>>>>\n",
      " None\n"
     ]
    }
   ],
   "source": [
    "df = generate(df, columns_l = ['ethnicity'])\n",
    "print('NaNs filled with means for height, weight columns>>>>\\n', df.info())"
   ]
  },
  {
   "cell_type": "markdown",
   "id": "f9729e11",
   "metadata": {},
   "source": [
    "### f. Create a binary variable for gender M/F."
   ]
  },
  {
   "cell_type": "code",
   "execution_count": 74,
   "id": "82a8775b",
   "metadata": {},
   "outputs": [
    {
     "name": "stdout",
     "output_type": "stream",
     "text": [
      "<class 'pandas.core.frame.DataFrame'>\n",
      "Int64Index: 9368 entries, 0 to 9999\n",
      "Data columns (total 57 columns):\n",
      " #   Column                       Non-Null Count  Dtype  \n",
      "---  ------                       --------------  -----  \n",
      " 0   encounter_id                 9368 non-null   int64  \n",
      " 1   hospital_id                  9368 non-null   int64  \n",
      " 2   age                          9368 non-null   float64\n",
      " 3   bmi                          7746 non-null   float64\n",
      " 4   elective_surgery             9368 non-null   int64  \n",
      " 5   height                       9368 non-null   float64\n",
      " 6   hospital_admit_source        8518 non-null   object \n",
      " 7   icu_admit_source             9347 non-null   object \n",
      " 8   icu_id                       9368 non-null   int64  \n",
      " 9   icu_stay_type                9368 non-null   object \n",
      " 10  icu_type                     9368 non-null   object \n",
      " 11  pre_icu_los_days             9368 non-null   float64\n",
      " 12  readmission_status           9368 non-null   int64  \n",
      " 13  weight                       9368 non-null   float64\n",
      " 14  albumin_apache               3322 non-null   float64\n",
      " 15  apache_2_diagnosis           9191 non-null   float64\n",
      " 16  apache_3j_diagnosis          9319 non-null   float64\n",
      " 17  apache_post_operative        9368 non-null   int64  \n",
      " 18  arf_apache                   9368 non-null   int64  \n",
      " 19  bilirubin_apache             3198 non-null   float64\n",
      " 20  bun_apache                   6996 non-null   float64\n",
      " 21  creatinine_apache            7121 non-null   float64\n",
      " 22  fio2_apache                  2785 non-null   float64\n",
      " 23  gcs_eyes_apache              9303 non-null   float64\n",
      " 24  gcs_motor_apache             9303 non-null   float64\n",
      " 25  gcs_unable_apache            9307 non-null   float64\n",
      " 26  gcs_verbal_apache            9303 non-null   float64\n",
      " 27  glucose_apache               8360 non-null   float64\n",
      " 28  heart_rate_apache            9367 non-null   float64\n",
      " 29  hematocrit_apache            7489 non-null   float64\n",
      " 30  intubated_apache             9368 non-null   int64  \n",
      " 31  map_apache                   9356 non-null   float64\n",
      " 32  paco2_apache                 2785 non-null   float64\n",
      " 33  paco2_for_ph_apache          2785 non-null   float64\n",
      " 34  pao2_apache                  2785 non-null   float64\n",
      " 35  ph_apache                    2785 non-null   float64\n",
      " 36  resprate_apache              9335 non-null   float64\n",
      " 37  sodium_apache                7047 non-null   float64\n",
      " 38  temp_apache                  9283 non-null   float64\n",
      " 39  urineoutput_apache           1387 non-null   float64\n",
      " 40  ventilated_apache            9368 non-null   int64  \n",
      " 41  wbc_apache                   7314 non-null   float64\n",
      " 42  aids                         9368 non-null   int64  \n",
      " 43  cirrhosis                    9368 non-null   int64  \n",
      " 44  hepatic_failure              9368 non-null   int64  \n",
      " 45  immunosuppression            9368 non-null   int64  \n",
      " 46  leukemia                     9368 non-null   int64  \n",
      " 47  lymphoma                     9368 non-null   int64  \n",
      " 48  solid_tumor_with_metastasis  9368 non-null   int64  \n",
      " 49  diabetes_mellitus            9368 non-null   int64  \n",
      " 50  ethnicity_African American   9368 non-null   uint8  \n",
      " 51  ethnicity_Asian              9368 non-null   uint8  \n",
      " 52  ethnicity_Caucasian          9368 non-null   uint8  \n",
      " 53  ethnicity_Hispanic           9368 non-null   uint8  \n",
      " 54  ethnicity_Native American    9368 non-null   uint8  \n",
      " 55  ethnicity_Other/Unknown      9368 non-null   uint8  \n",
      " 56  M/F                          9368 non-null   uint8  \n",
      "dtypes: float64(29), int64(17), object(4), uint8(7)\n",
      "memory usage: 3.7+ MB\n",
      "Binarized gender column to M/F>>>>\n",
      " None\n"
     ]
    }
   ],
   "source": [
    "df = binarize(df, init_column_name='gender', binarized_column_name='M/F')\n",
    "print('Binarized gender column to M/F>>>>\\n', df.info())"
   ]
  },
  {
   "cell_type": "markdown",
   "id": "19c374c4",
   "metadata": {},
   "source": [
    "# b. Split the data between train and test. (you can use train_test_split from sklearn or any other way)"
   ]
  },
  {
   "cell_type": "code",
   "execution_count": 75,
   "id": "4c31572b",
   "metadata": {},
   "outputs": [
    {
     "name": "stdout",
     "output_type": "stream",
     "text": [
      "      encounter_id  hospital_id   age        bmi  elective_surgery  height  \\\n",
      "4731        194008          118  79.0  40.546531                 0   162.6   \n",
      "5783        150184           81  85.0        NaN                 0   157.5   \n",
      "6572        237953           77  46.0        NaN                 1   182.9   \n",
      "8247        219591          137  88.0  27.302230                 0   175.3   \n",
      "1516        162123           77  65.0  35.080682                 1   177.8   \n",
      "...            ...          ...   ...        ...               ...     ...   \n",
      "2303        191839          118  59.0        NaN                 0   165.1   \n",
      "8313        177145          137  51.0  34.289412                 0   163.8   \n",
      "3534        245727          118  59.0  23.526066                 0   162.6   \n",
      "43          179524           31  52.0  23.039099                 0   165.1   \n",
      "3549        271596          118  31.0  19.228087                 0   170.2   \n",
      "\n",
      "     hospital_admit_source           icu_admit_source  icu_id icu_stay_type  \\\n",
      "4731                 Floor                      Floor      92         admit   \n",
      "5783                   NaN       Accident & Emergency      90         admit   \n",
      "6572                   NaN       Accident & Emergency      87         admit   \n",
      "8247                 Floor                      Floor     143         admit   \n",
      "1516        Operating Room  Operating Room / Recovery      87         admit   \n",
      "...                    ...                        ...     ...           ...   \n",
      "2303          Direct Admit       Accident & Emergency     114         admit   \n",
      "8313          Direct Admit       Accident & Emergency     143         admit   \n",
      "3534  Emergency Department       Accident & Emergency      99         admit   \n",
      "43    Emergency Department       Accident & Emergency      83         admit   \n",
      "3549  Emergency Department       Accident & Emergency      99         admit   \n",
      "\n",
      "      ... leukemia  lymphoma  solid_tumor_with_metastasis  \\\n",
      "4731  ...        0         0                            0   \n",
      "5783  ...        0         0                            0   \n",
      "6572  ...        0         0                            0   \n",
      "8247  ...        0         0                            0   \n",
      "1516  ...        0         0                            0   \n",
      "...   ...      ...       ...                          ...   \n",
      "2303  ...        0         0                            0   \n",
      "8313  ...        0         0                            0   \n",
      "3534  ...        0         0                            0   \n",
      "43    ...        0         0                            0   \n",
      "3549  ...        0         0                            0   \n",
      "\n",
      "      ethnicity_African American  ethnicity_Asian  ethnicity_Caucasian  \\\n",
      "4731                           0                0                    1   \n",
      "5783                           0                0                    1   \n",
      "6572                           0                0                    1   \n",
      "8247                           0                0                    1   \n",
      "1516                           0                0                    1   \n",
      "...                          ...              ...                  ...   \n",
      "2303                           0                0                    1   \n",
      "8313                           0                0                    1   \n",
      "3534                           1                0                    0   \n",
      "43                             0                0                    1   \n",
      "3549                           1                0                    0   \n",
      "\n",
      "      ethnicity_Hispanic  ethnicity_Native American  ethnicity_Other/Unknown  \\\n",
      "4731                   0                          0                        0   \n",
      "5783                   0                          0                        0   \n",
      "6572                   0                          0                        0   \n",
      "8247                   0                          0                        0   \n",
      "1516                   0                          0                        0   \n",
      "...                  ...                        ...                      ...   \n",
      "2303                   0                          0                        0   \n",
      "8313                   0                          0                        0   \n",
      "3534                   0                          0                        0   \n",
      "43                     0                          0                        0   \n",
      "3549                   0                          0                        0   \n",
      "\n",
      "      M/F  \n",
      "4731    0  \n",
      "5783    0  \n",
      "6572    1  \n",
      "8247    1  \n",
      "1516    1  \n",
      "...   ...  \n",
      "2303    0  \n",
      "8313    0  \n",
      "3534    0  \n",
      "43      0  \n",
      "3549    1  \n",
      "\n",
      "[7494 rows x 56 columns]\n"
     ]
    }
   ],
   "source": [
    "X_train, X_test, y_train, y_test = split(data=df, target='diabetes_mellitus')\n",
    "\n",
    "print(X_train)"
   ]
  },
  {
   "cell_type": "code",
   "execution_count": 76,
   "id": "79c417d2",
   "metadata": {},
   "outputs": [
    {
     "name": "stdout",
     "output_type": "stream",
     "text": [
      "X_train.shape>> (7494, 56)\n",
      "X_test.shape>> (1874, 56)\n",
      "y_train.shape>> (7494,)\n",
      "y_test.shape>> (1874,)\n"
     ]
    }
   ],
   "source": [
    "print('X_train.shape>>', X_train.shape)\n",
    "print('X_test.shape>>', X_test.shape)\n",
    "print('y_train.shape>>', y_train.shape)\n",
    "print('y_test.shape>>', y_test.shape)"
   ]
  },
  {
   "cell_type": "markdown",
   "id": "90915690",
   "metadata": {},
   "source": [
    "### g. Train a model (for instance LogisticRegression or RandomForestClassifier from sklearn) in the train data. Use as features the columns: ‘age’, ‘height’, ‘weight’, ‘aids’, ‘cirrhosis’, ‘hepatic_failure’, ‘immunosuppression’, ‘leukemia’, ‘lymphoma’, ‘solid_tumor_with_metastasis’. Use as target the column: ‘diabetes_mellitus’"
   ]
  },
  {
   "cell_type": "code",
   "execution_count": 77,
   "id": "5830d6a3",
   "metadata": {},
   "outputs": [
    {
     "name": "stdout",
     "output_type": "stream",
     "text": [
      "trained_model>> RandomForestClassifier()\n"
     ]
    }
   ],
   "source": [
    "trained_model = train(model='rf', X_train=X_train, y_train=y_train, X_features_l=X_FEATURES)\n",
    "\n",
    "print('trained_model>>', trained_model)"
   ]
  },
  {
   "cell_type": "markdown",
   "id": "3357cf3f",
   "metadata": {},
   "source": [
    "### h. Predict the targets for both the train and test sets and add the prediction as a new column (use predict_proba from the model to get the predicted probabilities) name the new column something like predictions."
   ]
  },
  {
   "cell_type": "code",
   "execution_count": 78,
   "id": "c213a118",
   "metadata": {},
   "outputs": [
    {
     "name": "stdout",
     "output_type": "stream",
     "text": [
      "y_train>>>       diabetes_mellitus  predictions\n",
      "4731                  1     0.840000\n",
      "5783                  0     0.241667\n",
      "6572                  0     0.644381\n",
      "8247                  0     0.038571\n",
      "1516                  1     0.700000\n",
      "...                 ...          ...\n",
      "2303                  0     0.077667\n",
      "8313                  0     0.110000\n",
      "3534                  0     0.010000\n",
      "43                    0     0.030000\n",
      "3549                  0     0.210000\n",
      "\n",
      "[7494 rows x 2 columns]\n",
      "y_test>>>       diabetes_mellitus  predictions\n",
      "6561                  1     0.220000\n",
      "847                   1     0.570000\n",
      "6509                  0     0.000000\n",
      "7459                  0     0.280000\n",
      "5980                  0     0.373714\n",
      "...                 ...          ...\n",
      "2440                  0     0.149167\n",
      "5578                  0     0.453333\n",
      "1076                  0     0.315255\n",
      "3428                  0     0.018333\n",
      "825                   0     0.246667\n",
      "\n",
      "[1874 rows x 2 columns]\n"
     ]
    }
   ],
   "source": [
    "y_train, y_test = predict(trained_model, X_train, y_train, X_test, y_test, X_features_l=X_FEATURES)\n",
    "\n",
    "print('y_train>>>', y_train)\n",
    "print('y_test>>>', y_test)"
   ]
  },
  {
   "cell_type": "markdown",
   "id": "927770f9",
   "metadata": {},
   "source": [
    "### i. Compute the train and test roc_auc metric using roc_auc_score from sklearn."
   ]
  },
  {
   "cell_type": "code",
   "execution_count": 79,
   "id": "171337d3",
   "metadata": {},
   "outputs": [
    {
     "name": "stdout",
     "output_type": "stream",
     "text": [
      "AUC ROC score Train:  0.9981218638135233\n",
      "AUC ROC score Test:  0.5983142226631561\n"
     ]
    }
   ],
   "source": [
    "print('AUC ROC score Train: ', roc_auc(y_train['diabetes_mellitus'], y_train['predictions']))\n",
    "print('AUC ROC score Test: ', roc_auc(y_test['diabetes_mellitus'], y_test['predictions']))"
   ]
  },
  {
   "cell_type": "markdown",
   "id": "b2369cd1",
   "metadata": {},
   "source": [
    "# clearly Random forest overfits while logistic regression does not if you change model in function trained_model = train(model='rf', X_train=X_train, y_train=y_train, X_features_l=X_FEATURES) to lr"
   ]
  },
  {
   "cell_type": "code",
   "execution_count": 80,
   "id": "b5b5b5f6",
   "metadata": {},
   "outputs": [
    {
     "name": "stdout",
     "output_type": "stream",
     "text": [
      "      encounter_id  hospital_id   age        bmi  elective_surgery  height  \\\n",
      "4731        194008          118  79.0  40.546531                 0   162.6   \n",
      "5783        150184           81  85.0        NaN                 0   157.5   \n",
      "6572        237953           77  46.0        NaN                 1   182.9   \n",
      "8247        219591          137  88.0  27.302230                 0   175.3   \n",
      "1516        162123           77  65.0  35.080682                 1   177.8   \n",
      "...            ...          ...   ...        ...               ...     ...   \n",
      "2303        191839          118  59.0        NaN                 0   165.1   \n",
      "8313        177145          137  51.0  34.289412                 0   163.8   \n",
      "3534        245727          118  59.0  23.526066                 0   162.6   \n",
      "43          179524           31  52.0  23.039099                 0   165.1   \n",
      "3549        271596          118  31.0  19.228087                 0   170.2   \n",
      "\n",
      "     hospital_admit_source           icu_admit_source  icu_id icu_stay_type  \\\n",
      "4731                 Floor                      Floor      92         admit   \n",
      "5783                   NaN       Accident & Emergency      90         admit   \n",
      "6572                   NaN       Accident & Emergency      87         admit   \n",
      "8247                 Floor                      Floor     143         admit   \n",
      "1516        Operating Room  Operating Room / Recovery      87         admit   \n",
      "...                    ...                        ...     ...           ...   \n",
      "2303          Direct Admit       Accident & Emergency     114         admit   \n",
      "8313          Direct Admit       Accident & Emergency     143         admit   \n",
      "3534  Emergency Department       Accident & Emergency      99         admit   \n",
      "43    Emergency Department       Accident & Emergency      83         admit   \n",
      "3549  Emergency Department       Accident & Emergency      99         admit   \n",
      "\n",
      "      ... leukemia  lymphoma  solid_tumor_with_metastasis  \\\n",
      "4731  ...        0         0                            0   \n",
      "5783  ...        0         0                            0   \n",
      "6572  ...        0         0                            0   \n",
      "8247  ...        0         0                            0   \n",
      "1516  ...        0         0                            0   \n",
      "...   ...      ...       ...                          ...   \n",
      "2303  ...        0         0                            0   \n",
      "8313  ...        0         0                            0   \n",
      "3534  ...        0         0                            0   \n",
      "43    ...        0         0                            0   \n",
      "3549  ...        0         0                            0   \n",
      "\n",
      "      ethnicity_African American  ethnicity_Asian  ethnicity_Caucasian  \\\n",
      "4731                           0                0                    1   \n",
      "5783                           0                0                    1   \n",
      "6572                           0                0                    1   \n",
      "8247                           0                0                    1   \n",
      "1516                           0                0                    1   \n",
      "...                          ...              ...                  ...   \n",
      "2303                           0                0                    1   \n",
      "8313                           0                0                    1   \n",
      "3534                           1                0                    0   \n",
      "43                             0                0                    1   \n",
      "3549                           1                0                    0   \n",
      "\n",
      "      ethnicity_Hispanic  ethnicity_Native American  ethnicity_Other/Unknown  \\\n",
      "4731                   0                          0                        0   \n",
      "5783                   0                          0                        0   \n",
      "6572                   0                          0                        0   \n",
      "8247                   0                          0                        0   \n",
      "1516                   0                          0                        0   \n",
      "...                  ...                        ...                      ...   \n",
      "2303                   0                          0                        0   \n",
      "8313                   0                          0                        0   \n",
      "3534                   0                          0                        0   \n",
      "43                     0                          0                        0   \n",
      "3549                   0                          0                        0   \n",
      "\n",
      "      M/F  \n",
      "4731    0  \n",
      "5783    0  \n",
      "6572    1  \n",
      "8247    1  \n",
      "1516    1  \n",
      "...   ...  \n",
      "2303    0  \n",
      "8313    0  \n",
      "3534    0  \n",
      "43      0  \n",
      "3549    1  \n",
      "\n",
      "[7494 rows x 56 columns]\n",
      "trained_model>> LogisticRegression()\n"
     ]
    }
   ],
   "source": [
    "X_train, X_test, y_train, y_test = split(data=df, target='diabetes_mellitus')\n",
    "\n",
    "print(X_train)\n",
    "\n",
    "trained_model = train(model='lr', X_train=X_train, y_train=y_train, X_features_l=X_FEATURES)\n",
    "\n",
    "print('trained_model>>', trained_model)"
   ]
  },
  {
   "cell_type": "code",
   "execution_count": 81,
   "id": "a1a879e2",
   "metadata": {},
   "outputs": [
    {
     "name": "stdout",
     "output_type": "stream",
     "text": [
      "y_train>>>       diabetes_mellitus  predictions\n",
      "4731                  1     0.442973\n",
      "5783                  0     0.390512\n",
      "6572                  0     0.123382\n",
      "8247                  0     0.281255\n",
      "1516                  1     0.299137\n",
      "...                 ...          ...\n",
      "2303                  0     0.231314\n",
      "8313                  0     0.229210\n",
      "3534                  0     0.152150\n",
      "43                    0     0.127921\n",
      "3549                  0     0.064774\n",
      "\n",
      "[7494 rows x 2 columns]\n",
      "y_test>>>       diabetes_mellitus  predictions\n",
      "6561                  1     0.199698\n",
      "847                   1     0.386706\n",
      "6509                  0     0.111578\n",
      "7459                  0     0.165193\n",
      "5980                  0     0.157344\n",
      "...                 ...          ...\n",
      "2440                  0     0.164091\n",
      "5578                  0     0.206687\n",
      "1076                  0     0.265802\n",
      "3428                  0     0.160943\n",
      "825                   0     0.151273\n",
      "\n",
      "[1874 rows x 2 columns]\n"
     ]
    }
   ],
   "source": [
    "y_train, y_test = predict(trained_model, X_train, y_train, X_test, y_test, X_features_l=X_FEATURES)\n",
    "\n",
    "print('y_train>>>', y_train)\n",
    "print('y_test>>>', y_test)"
   ]
  },
  {
   "cell_type": "code",
   "execution_count": 82,
   "id": "48f9c395",
   "metadata": {},
   "outputs": [
    {
     "name": "stdout",
     "output_type": "stream",
     "text": [
      "AUC ROC score Train:  0.6698929077986007\n",
      "AUC ROC score Test:  0.665457543150049\n"
     ]
    }
   ],
   "source": [
    "print('AUC ROC score Train: ', roc_auc(y_train['diabetes_mellitus'], y_train['predictions']))\n",
    "print('AUC ROC score Test: ', roc_auc(y_test['diabetes_mellitus'], y_test['predictions']))"
   ]
  },
  {
   "cell_type": "markdown",
   "id": "af32427f",
   "metadata": {},
   "source": [
    "# AUC dropped to around 67% but it is consistent across both train and test sets, also maybe underfitted as well.."
   ]
  }
 ],
 "metadata": {
  "kernelspec": {
   "display_name": "Python 3 (ipykernel)",
   "language": "python",
   "name": "python3"
  },
  "language_info": {
   "codemirror_mode": {
    "name": "ipython",
    "version": 3
   },
   "file_extension": ".py",
   "mimetype": "text/x-python",
   "name": "python",
   "nbconvert_exporter": "python",
   "pygments_lexer": "ipython3",
   "version": "3.8.9"
  }
 },
 "nbformat": 4,
 "nbformat_minor": 5
}
