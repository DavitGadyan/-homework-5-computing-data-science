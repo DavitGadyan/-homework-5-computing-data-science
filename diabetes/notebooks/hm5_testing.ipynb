{
 "cells": [
  {
   "cell_type": "code",
   "execution_count": 1,
   "id": "848bc2cf",
   "metadata": {},
   "outputs": [
    {
     "name": "stdout",
     "output_type": "stream",
     "text": [
      "Package           Version   Editable project location\r\n",
      "----------------- --------- ---------------------------------------------------------------------------------------------------------------------\r\n",
      "diabetes          0.1.0     /Users/dyada/Desktop/BSE/Computing for Data Science/homeworks/hm5/homework-5-computing-data-science/diabetes/diabetes\r\n",
      "diabetes-analysis 0.1.0     /Users/dyada/Desktop/BSE/Computing for Data Science/homeworks/hm5/homework-5-computing-data-science/diabetes/diabetes\r\n",
      "dibetes-analysis  0.1.0     /Users/dyada/Desktop/BSE/Computing for Data Science/homeworks/hm5/homework-5-computing-data-science/diabetes/diabetes\r\n",
      "geographiclib     2.0\r\n",
      "geopy             2.3.0\r\n",
      "joblib            1.2.0\r\n",
      "numpy             1.23.4\r\n",
      "pandas            1.5.1\r\n",
      "pip               22.3.1\r\n",
      "python-dateutil   2.8.2\r\n",
      "pytz              2022.6\r\n",
      "scikit-learn      1.1.3\r\n",
      "scipy             1.9.3\r\n",
      "setuptools        65.3.0\r\n",
      "six               1.16.0\r\n",
      "sklearn           0.0.post1\r\n",
      "src               0.1.0     /Users/dyada/Desktop/BSE/Computing for Data Science/homeworks/hm5/homework-5-computing-data-science/diabetes/diabetes\r\n",
      "threadpoolctl     3.1.0\r\n",
      "wheel             0.37.1\r\n"
     ]
    }
   ],
   "source": [
    "! pip list"
   ]
  },
  {
   "cell_type": "code",
   "execution_count": 2,
   "id": "1c2bc33b",
   "metadata": {},
   "outputs": [],
   "source": [
    "import sys\n",
    "package_path = '/Users/dyada/Desktop/BSE/Computing for Data Science/homeworks/hm5/homework-5-computing-data-science/diabetes/'\n",
    "sys.path.append(package_path)"
   ]
  },
  {
   "cell_type": "code",
   "execution_count": 3,
   "id": "83bcaf34",
   "metadata": {},
   "outputs": [],
   "source": [
    "from diabetes.data.load import from_csv\n",
    "from diabetes.processing.train_test import split"
   ]
  },
  {
   "cell_type": "markdown",
   "id": "816b946f",
   "metadata": {},
   "source": [
    "#### a. Load the data."
   ]
  },
  {
   "cell_type": "code",
   "execution_count": 4,
   "id": "740c988a",
   "metadata": {},
   "outputs": [
    {
     "name": "stdout",
     "output_type": "stream",
     "text": [
      "      encounter_id  hospital_id   age        bmi  elective_surgery  \\\n",
      "0           214826          118  68.0  22.732803                 0   \n",
      "1           246060           81  77.0  27.421875                 0   \n",
      "2           276985          118  25.0  31.952749                 0   \n",
      "3           262220          118  81.0  22.635548                 1   \n",
      "4           201746           33  19.0        NaN                 0   \n",
      "...            ...          ...   ...        ...               ...   \n",
      "9995        167042          140   NaN  51.952814                 0   \n",
      "9996        165009           89  34.0  26.110113                 0   \n",
      "9997        234052          137  30.0  23.774241                 0   \n",
      "9998        249290           89  67.0  31.330708                 0   \n",
      "9999        151312           89  55.0  44.343663                 0   \n",
      "\n",
      "            ethnicity gender  height hospital_admit_source  \\\n",
      "0           Caucasian      M  180.30                 Floor   \n",
      "1           Caucasian      F  160.00                 Floor   \n",
      "2           Caucasian      F  172.70  Emergency Department   \n",
      "3           Caucasian      F  165.10        Operating Room   \n",
      "4           Caucasian      M  188.00                   NaN   \n",
      "...               ...    ...     ...                   ...   \n",
      "9995        Caucasian      F  137.20                 Floor   \n",
      "9996        Caucasian      F  175.26  Emergency Department   \n",
      "9997  Native American      F  157.48  Emergency Department   \n",
      "9998        Caucasian      F  157.48          Direct Admit   \n",
      "9999        Caucasian      F  157.50  Emergency Department   \n",
      "\n",
      "               icu_admit_source  ...  ventilated_apache wbc_apache aids  \\\n",
      "0                         Floor  ...                  0       14.1    0   \n",
      "1                         Floor  ...                  1       12.7    0   \n",
      "2          Accident & Emergency  ...                  0        NaN    0   \n",
      "3     Operating Room / Recovery  ...                  1        8.0    0   \n",
      "4          Accident & Emergency  ...                  0        NaN    0   \n",
      "...                         ...  ...                ...        ...  ...   \n",
      "9995                      Floor  ...                  0        7.0    0   \n",
      "9996       Accident & Emergency  ...                  0        9.5    0   \n",
      "9997       Accident & Emergency  ...                  0        NaN    0   \n",
      "9998       Accident & Emergency  ...                  0        6.4    0   \n",
      "9999       Accident & Emergency  ...                  1        NaN    0   \n",
      "\n",
      "      cirrhosis  hepatic_failure  immunosuppression  leukemia  lymphoma  \\\n",
      "0             0                0                  0         0         0   \n",
      "1             0                0                  0         0         0   \n",
      "2             0                0                  0         0         0   \n",
      "3             0                0                  0         0         0   \n",
      "4             0                0                  0         0         0   \n",
      "...         ...              ...                ...       ...       ...   \n",
      "9995          0                0                  0         0         0   \n",
      "9996          0                0                  0         0         0   \n",
      "9997          0                0                  0         0         0   \n",
      "9998          0                0                  0         0         0   \n",
      "9999          0                0                  0         0         0   \n",
      "\n",
      "      solid_tumor_with_metastasis  diabetes_mellitus  \n",
      "0                               0                  1  \n",
      "1                               0                  1  \n",
      "2                               0                  0  \n",
      "3                               0                  0  \n",
      "4                               0                  0  \n",
      "...                           ...                ...  \n",
      "9995                            0                  0  \n",
      "9996                            0                  0  \n",
      "9997                            0                  0  \n",
      "9998                            0                  0  \n",
      "9999                            0                  0  \n",
      "\n",
      "[10000 rows x 52 columns]\n"
     ]
    }
   ],
   "source": [
    "\n",
    "df = from_csv(package_path + 'data/sample_diabetes_mellitus_data.csv')\n",
    "\n",
    "print(df)\n"
   ]
  },
  {
   "cell_type": "code",
   "execution_count": 5,
   "id": "14f6ac78",
   "metadata": {},
   "outputs": [
    {
     "name": "stdout",
     "output_type": "stream",
     "text": [
      "<class 'pandas.core.frame.DataFrame'>\n",
      "Int64Index: 10000 entries, 0 to 9999\n",
      "Data columns (total 52 columns):\n",
      " #   Column                       Non-Null Count  Dtype  \n",
      "---  ------                       --------------  -----  \n",
      " 0   encounter_id                 10000 non-null  int64  \n",
      " 1   hospital_id                  10000 non-null  int64  \n",
      " 2   age                          9595 non-null   float64\n",
      " 3   bmi                          8262 non-null   float64\n",
      " 4   elective_surgery             10000 non-null  int64  \n",
      " 5   ethnicity                    9758 non-null   object \n",
      " 6   gender                       9997 non-null   object \n",
      " 7   height                       9840 non-null   float64\n",
      " 8   hospital_admit_source        9082 non-null   object \n",
      " 9   icu_admit_source             9979 non-null   object \n",
      " 10  icu_id                       10000 non-null  int64  \n",
      " 11  icu_stay_type                10000 non-null  object \n",
      " 12  icu_type                     10000 non-null  object \n",
      " 13  pre_icu_los_days             10000 non-null  float64\n",
      " 14  readmission_status           10000 non-null  int64  \n",
      " 15  weight                       8342 non-null   float64\n",
      " 16  albumin_apache               3539 non-null   float64\n",
      " 17  apache_2_diagnosis           9820 non-null   float64\n",
      " 18  apache_3j_diagnosis          9949 non-null   float64\n",
      " 19  apache_post_operative        10000 non-null  int64  \n",
      " 20  arf_apache                   10000 non-null  int64  \n",
      " 21  bilirubin_apache             3408 non-null   float64\n",
      " 22  bun_apache                   7479 non-null   float64\n",
      " 23  creatinine_apache            7611 non-null   float64\n",
      " 24  fio2_apache                  2913 non-null   float64\n",
      " 25  gcs_eyes_apache              9931 non-null   float64\n",
      " 26  gcs_motor_apache             9931 non-null   float64\n",
      " 27  gcs_unable_apache            9935 non-null   float64\n",
      " 28  gcs_verbal_apache            9931 non-null   float64\n",
      " 29  glucose_apache               8915 non-null   float64\n",
      " 30  heart_rate_apache            9999 non-null   float64\n",
      " 31  hematocrit_apache            7994 non-null   float64\n",
      " 32  intubated_apache             10000 non-null  int64  \n",
      " 33  map_apache                   9987 non-null   float64\n",
      " 34  paco2_apache                 2913 non-null   float64\n",
      " 35  paco2_for_ph_apache          2913 non-null   float64\n",
      " 36  pao2_apache                  2913 non-null   float64\n",
      " 37  ph_apache                    2913 non-null   float64\n",
      " 38  resprate_apache              9961 non-null   float64\n",
      " 39  sodium_apache                7534 non-null   float64\n",
      " 40  temp_apache                  9899 non-null   float64\n",
      " 41  urineoutput_apache           1523 non-null   float64\n",
      " 42  ventilated_apache            10000 non-null  int64  \n",
      " 43  wbc_apache                   7802 non-null   float64\n",
      " 44  aids                         10000 non-null  int64  \n",
      " 45  cirrhosis                    10000 non-null  int64  \n",
      " 46  hepatic_failure              10000 non-null  int64  \n",
      " 47  immunosuppression            10000 non-null  int64  \n",
      " 48  leukemia                     10000 non-null  int64  \n",
      " 49  lymphoma                     10000 non-null  int64  \n",
      " 50  solid_tumor_with_metastasis  10000 non-null  int64  \n",
      " 51  diabetes_mellitus            10000 non-null  int64  \n",
      "dtypes: float64(29), int64(17), object(6)\n",
      "memory usage: 4.0+ MB\n"
     ]
    }
   ],
   "source": [
    "df.info()"
   ]
  },
  {
   "cell_type": "code",
   "execution_count": 7,
   "id": "dbc0e0e6",
   "metadata": {},
   "outputs": [
    {
     "data": {
      "text/plain": [
       "M    5429\n",
       "F    4568\n",
       "Name: gender, dtype: int64"
      ]
     },
     "execution_count": 7,
     "metadata": {},
     "output_type": "execute_result"
    }
   ],
   "source": [
    "df.gender.value_counts()"
   ]
  },
  {
   "cell_type": "markdown",
   "id": "19c374c4",
   "metadata": {},
   "source": [
    "# b. Split the data between train and test. (you can use train_test_split from sklearn or any other way)"
   ]
  },
  {
   "cell_type": "code",
   "execution_count": 19,
   "id": "4c31572b",
   "metadata": {},
   "outputs": [
    {
     "name": "stdout",
     "output_type": "stream",
     "text": [
      "      encounter_id  hospital_id   age        bmi  elective_surgery  ethnicity  \\\n",
      "864         147116          118  67.0  36.095742                 0  Caucasian   \n",
      "4211        271501          118  79.0        NaN                 0  Caucasian   \n",
      "5980        252766          118  66.0        NaN                 0  Caucasian   \n",
      "7504        222262          118  71.0  26.879192                 1  Caucasian   \n",
      "9465        195030           89  43.0  32.681974                 0  Caucasian   \n",
      "...            ...          ...   ...        ...               ...        ...   \n",
      "6824        214796          118  61.0  31.207031                 1  Caucasian   \n",
      "284         178354          118  78.0  24.234898                 0  Caucasian   \n",
      "7058        154416          118  80.0  24.047337                 0  Caucasian   \n",
      "5422        208812          118  65.0        NaN                 1      Asian   \n",
      "1708        177376          118  55.0  42.578125                 0  Caucasian   \n",
      "\n",
      "     gender  height hospital_admit_source           icu_admit_source  ...  \\\n",
      "864       M  195.59                   NaN             Other Hospital  ...   \n",
      "4211      M  167.60  Emergency Department       Accident & Emergency  ...   \n",
      "5980      M  188.00  Emergency Department       Accident & Emergency  ...   \n",
      "7504      M  175.30        Operating Room  Operating Room / Recovery  ...   \n",
      "9465      M  180.34          Direct Admit       Accident & Emergency  ...   \n",
      "...     ...     ...                   ...                        ...  ...   \n",
      "6824      F  160.00        Operating Room  Operating Room / Recovery  ...   \n",
      "284       F  158.00                   NaN                      Floor  ...   \n",
      "7058      F  162.50  Emergency Department       Accident & Emergency  ...   \n",
      "5422      M  160.00        Operating Room  Operating Room / Recovery  ...   \n",
      "1708      F  160.00          Direct Admit       Accident & Emergency  ...   \n",
      "\n",
      "      urineoutput_apache ventilated_apache wbc_apache  aids  cirrhosis  \\\n",
      "864                  NaN                 1       17.6     0          0   \n",
      "4211                 NaN                 1       21.8     0          0   \n",
      "5980                 NaN                 0        8.1     0          0   \n",
      "7504                 NaN                 0       16.4     0          0   \n",
      "9465           2330.0352                 0        NaN     0          0   \n",
      "...                  ...               ...        ...   ...        ...   \n",
      "6824                 NaN                 1        8.1     0          0   \n",
      "284                  NaN                 0        5.1     0          0   \n",
      "7058                 NaN                 0        9.5     0          0   \n",
      "5422                 NaN                 1       11.6     0          0   \n",
      "1708                 NaN                 0        9.5     0          0   \n",
      "\n",
      "      hepatic_failure  immunosuppression  leukemia  lymphoma  \\\n",
      "864                 0                  0         0         0   \n",
      "4211                0                  0         0         0   \n",
      "5980                0                  0         0         0   \n",
      "7504                0                  0         0         0   \n",
      "9465                0                  0         0         0   \n",
      "...               ...                ...       ...       ...   \n",
      "6824                0                  0         0         0   \n",
      "284                 0                  0         0         0   \n",
      "7058                0                  0         0         0   \n",
      "5422                0                  0         0         0   \n",
      "1708                0                  0         0         0   \n",
      "\n",
      "      solid_tumor_with_metastasis  \n",
      "864                             0  \n",
      "4211                            0  \n",
      "5980                            0  \n",
      "7504                            0  \n",
      "9465                            0  \n",
      "...                           ...  \n",
      "6824                            0  \n",
      "284                             0  \n",
      "7058                            0  \n",
      "5422                            0  \n",
      "1708                            0  \n",
      "\n",
      "[8000 rows x 51 columns]\n"
     ]
    }
   ],
   "source": [
    "X_train, X_test, y_train, y_test = split(data=df, target='diabetes_mellitus')\n",
    "\n",
    "print(X_train)"
   ]
  },
  {
   "cell_type": "code",
   "execution_count": 21,
   "id": "79c417d2",
   "metadata": {},
   "outputs": [
    {
     "name": "stdout",
     "output_type": "stream",
     "text": [
      "X_train.shape>> (8000, 51)\n",
      "X_test.shape>> (2000, 51)\n",
      "y_train.shape>> (8000,)\n",
      "y_test.shape>> (2000,)\n"
     ]
    }
   ],
   "source": [
    "print('X_train.shape>>', X_train.shape)\n",
    "print('X_test.shape>>', X_test.shape)\n",
    "print('y_train.shape>>', y_train.shape)\n",
    "print('y_test.shape>>', y_test.shape)"
   ]
  },
  {
   "cell_type": "code",
   "execution_count": null,
   "id": "fd88cea1",
   "metadata": {},
   "outputs": [],
   "source": []
  }
 ],
 "metadata": {
  "kernelspec": {
   "display_name": "Python 3 (ipykernel)",
   "language": "python",
   "name": "python3"
  },
  "language_info": {
   "codemirror_mode": {
    "name": "ipython",
    "version": 3
   },
   "file_extension": ".py",
   "mimetype": "text/x-python",
   "name": "python",
   "nbconvert_exporter": "python",
   "pygments_lexer": "ipython3",
   "version": "3.8.9"
  }
 },
 "nbformat": 4,
 "nbformat_minor": 5
}
